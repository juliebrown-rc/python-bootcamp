{
 "cells": [
  {
   "cell_type": "code",
   "execution_count": 1,
   "metadata": {},
   "outputs": [],
   "source": [
    "class NameOfClass():\n",
    "    def __init__(self, param1, param2):\n",
    "        self.param1 = param1\n",
    "        self.param2 = param2\n",
    "    \n",
    "    def some_method(self):\n",
    "        print(self.param1)"
   ]
  },
  {
   "cell_type": "code",
   "execution_count": 20,
   "metadata": {},
   "outputs": [],
   "source": [
    "class Dog():\n",
    "    # class attributes\n",
    "    species = 'mammal'\n",
    "\n",
    "    # instance attributes\n",
    "    def __init__(self, breed, color, name):\n",
    "        self.breed = breed\n",
    "        self.color = color\n",
    "        self.name = name\n",
    "    \n",
    "    # method\n",
    "    def bark(self):\n",
    "        print(f\"Woof! My name is {self.name}\")\n",
    "\n"
   ]
  },
  {
   "cell_type": "code",
   "execution_count": 22,
   "metadata": {},
   "outputs": [
    {
     "name": "stdout",
     "output_type": "stream",
     "text": [
      "type: <class '__main__.Dog'>\n",
      "class attributes: mammal\n",
      "instance attribute: vizsla, red\n",
      "Woof! My name is Whiskey\n"
     ]
    }
   ],
   "source": [
    "my_dog = Dog('vizsla', 'red', 'Whiskey')\n",
    "print(f\"type: {type(my_dog)}\")\n",
    "print(f\"class attributes: {my_dog.species}\")\n",
    "print(f\"instance attribute: {my_dog.breed}, {my_dog.color}\")\n",
    "my_dog.bark()"
   ]
  },
  {
   "cell_type": "code",
   "execution_count": 34,
   "metadata": {},
   "outputs": [],
   "source": [
    "class Circle():\n",
    "    pi = 3.14\n",
    "    shape = 'circle'\n",
    "\n",
    "    def __init__(self, radius=1):\n",
    "        self.radius = radius\n",
    "        self.diameter = radius * 2\n",
    "    \n",
    "    def circumference(self):\n",
    "        return Circle.pi * self.diameter\n",
    "    \n",
    "    def area(self):\n",
    "        return Circle.pi * self.radius**2"
   ]
  },
  {
   "cell_type": "code",
   "execution_count": 35,
   "metadata": {},
   "outputs": [
    {
     "name": "stdout",
     "output_type": "stream",
     "text": [
      "radius: 30\n",
      "diameter: 60\n",
      "circumference: 188.4\n",
      "area: 2826.0\n"
     ]
    }
   ],
   "source": [
    "my_circle = Circle(30)\n",
    "print(f\"radius: {my_circle.radius}\")\n",
    "print(f\"diameter: {my_circle.diameter}\")\n",
    "print(f\"circumference: {my_circle.circumference()}\")\n",
    "print(f\"area: {my_circle.area()}\")"
   ]
  },
  {
   "cell_type": "code",
   "execution_count": 71,
   "metadata": {},
   "outputs": [],
   "source": [
    "class Animal():\n",
    "\n",
    "    species = 'mammal'\n",
    "\n",
    "    # override __init__ if needed in subclasses\n",
    "    def __init__(self, name):\n",
    "        print(\"ANIMAL CREATED\")\n",
    "        self.name = name\n",
    "    \n",
    "    def who_am_i(self):\n",
    "        print(\"I am an animal.\")\n",
    "    \n",
    "    def eat(self):\n",
    "        print(\"I am eating\")\n",
    "    \n",
    "    # abstract method\n",
    "    def speak(self):\n",
    "        raise NotImplementedError(\"Subclass must implement.\")\n",
    "\n",
    "class Dog(Animal):\n",
    "    # optional override\n",
    "    # def __init__(self,name):\n",
    "    #     Animal.__init__(self)\n",
    "    #     do some stuff\n",
    "\n",
    "    def who_am_i(self):\n",
    "        print(\"I am a dog.\")\n",
    "\n",
    "    def speak(self):\n",
    "        print(f\"Woof! My name is {self.name}\")\n",
    "\n",
    "class Cat(Animal):\n",
    "    def who_am_i(self):\n",
    "        print(\"I am a cat.\")\n",
    "    \n",
    "    def speak(self):\n",
    "        print(f\"Meow! My name is {self.name}\")"
   ]
  },
  {
   "cell_type": "code",
   "execution_count": 72,
   "metadata": {},
   "outputs": [
    {
     "name": "stdout",
     "output_type": "stream",
     "text": [
      "ANIMAL CREATED\n",
      "Dog created\n",
      "I am a dog.\n",
      "Woof! My name is Izzy\n",
      "ANIMAL CREATED\n",
      "Cat created.\n",
      "I am a cat.\n",
      "Meow! My name is Whiskers\n"
     ]
    }
   ],
   "source": [
    "my_dog = Dog('Izzy')\n",
    "my_dog.who_am_i()\n",
    "my_dog.speak()\n",
    "\n",
    "my_cat = Cat('Whiskers')\n",
    "my_cat.who_am_i()\n",
    "my_cat.speak()\n",
    "\n"
   ]
  },
  {
   "cell_type": "code",
   "execution_count": 57,
   "metadata": {},
   "outputs": [
    {
     "data": {
      "text/plain": [
       "__main__.Cat"
      ]
     },
     "execution_count": 57,
     "metadata": {},
     "output_type": "execute_result"
    }
   ],
   "source": [
    "my_cat.__class__"
   ]
  },
  {
   "cell_type": "code",
   "execution_count": 61,
   "metadata": {},
   "outputs": [
    {
     "data": {
      "text/plain": [
       "'Cat'"
      ]
     },
     "execution_count": 61,
     "metadata": {},
     "output_type": "execute_result"
    }
   ],
   "source": [
    "type(my_cat).__name__"
   ]
  },
  {
   "cell_type": "code",
   "execution_count": null,
   "metadata": {},
   "outputs": [],
   "source": []
  }
 ],
 "metadata": {
  "kernelspec": {
   "display_name": "Python 3",
   "language": "python",
   "name": "python3"
  },
  "language_info": {
   "codemirror_mode": {
    "name": "ipython",
    "version": 3
   },
   "file_extension": ".py",
   "mimetype": "text/x-python",
   "name": "python",
   "nbconvert_exporter": "python",
   "pygments_lexer": "ipython3",
   "version": "3.11.1 (main, Dec 23 2022, 09:40:27) [Clang 14.0.0 (clang-1400.0.29.202)]"
  },
  "orig_nbformat": 4,
  "vscode": {
   "interpreter": {
    "hash": "1a1af0ee75eeea9e2e1ee996c87e7a2b11a0bebd85af04bb136d915cefc0abce"
   }
  }
 },
 "nbformat": 4,
 "nbformat_minor": 2
}
