{
 "cells": [
  {
   "cell_type": "code",
   "execution_count": null,
   "metadata": {},
   "outputs": [],
   "source": [
    "# Object Oriented Programming Challenge\n",
    "# For this challenge, create a bank account class that has two attributes:\n",
    "\n",
    "# owner\n",
    "# balance\n",
    "# and two methods:\n",
    "\n",
    "# deposit\n",
    "# withdraw\n",
    "# As an added requirement, withdrawals may not exceed the available balance.\n",
    "\n",
    "# Instantiate your class, make several deposits and withdrawals, and test to make sure the account can't be overdrawn."
   ]
  },
  {
   "cell_type": "code",
   "execution_count": 6,
   "metadata": {},
   "outputs": [],
   "source": [
    "class Account():\n",
    "\n",
    "    def __init__(self, owner, balance=0):\n",
    "        self.owner = owner\n",
    "        self.balance = balance\n",
    "\n",
    "    def withdraw(self, amount):\n",
    "        print(f\"Requested withdrawl for ${amount}. Checking...\")\n",
    "        if amount > self.balance:\n",
    "            print(f\"Request exceeds current account balance of ${self.balance}. Exiting.\")\n",
    "        else:\n",
    "            print(f\"Withdrawing {amount}.\")\n",
    "            self.balance -= amount\n",
    "            print(f\"New balance: {self.balance}\")\n",
    "    \n",
    "    def deposit(self, amount):\n",
    "        print(f\"Depositing {amount}...\")\n",
    "        self.balance += amount\n",
    "        print(f\"New balance: {self.balance}\")\n"
   ]
  },
  {
   "cell_type": "code",
   "execution_count": 7,
   "metadata": {},
   "outputs": [
    {
     "name": "stdout",
     "output_type": "stream",
     "text": [
      "Depositing 100...\n",
      "New balance: 100\n",
      "Requested withdrawl for $1000. Checking...\n",
      "Request exceeds current account balance of $100. Exiting.\n",
      "Requested withdrawl for $100. Checking...\n",
      "Withdrawing 100.\n",
      "New balance: 0\n"
     ]
    }
   ],
   "source": [
    "my_account = Account(400)\n",
    "my_account.deposit(100)\n",
    "my_account.withdraw(1000)\n",
    "my_account.withdraw(100)"
   ]
  },
  {
   "cell_type": "code",
   "execution_count": null,
   "metadata": {},
   "outputs": [],
   "source": []
  }
 ],
 "metadata": {
  "kernelspec": {
   "display_name": "Python 3",
   "language": "python",
   "name": "python3"
  },
  "language_info": {
   "codemirror_mode": {
    "name": "ipython",
    "version": 3
   },
   "file_extension": ".py",
   "mimetype": "text/x-python",
   "name": "python",
   "nbconvert_exporter": "python",
   "pygments_lexer": "ipython3",
   "version": "3.11.1"
  },
  "orig_nbformat": 4,
  "vscode": {
   "interpreter": {
    "hash": "1a1af0ee75eeea9e2e1ee996c87e7a2b11a0bebd85af04bb136d915cefc0abce"
   }
  }
 },
 "nbformat": 4,
 "nbformat_minor": 2
}
