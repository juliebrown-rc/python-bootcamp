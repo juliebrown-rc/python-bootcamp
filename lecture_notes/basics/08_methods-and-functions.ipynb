{
 "cells": [
  {
   "cell_type": "code",
   "execution_count": 15,
   "metadata": {},
   "outputs": [],
   "source": [
    "help([1,2,3].insert)"
   ]
  },
  {
   "cell_type": "code",
   "execution_count": 3,
   "metadata": {},
   "outputs": [
    {
     "name": "stdout",
     "output_type": "stream",
     "text": [
      "3\n"
     ]
    }
   ],
   "source": [
    "def add_two_numbers(a,b):\n",
    "    return a + b\n",
    "\n",
    "print(add_two_numbers(1,2))"
   ]
  },
  {
   "cell_type": "code",
   "execution_count": 11,
   "metadata": {},
   "outputs": [
    {
     "name": "stdout",
     "output_type": "stream",
     "text": [
      "False\n",
      "True\n"
     ]
    },
    {
     "ename": "Exception",
     "evalue": "All numbers must be integers",
     "output_type": "error",
     "traceback": [
      "\u001b[0;31m---------------------------------------------------------------------------\u001b[0m",
      "\u001b[0;31mException\u001b[0m                                 Traceback (most recent call last)",
      "Cell \u001b[0;32mIn[11], line 16\u001b[0m\n\u001b[1;32m     14\u001b[0m \u001b[39mprint\u001b[39m(is_even(\u001b[39m5\u001b[39m))\n\u001b[1;32m     15\u001b[0m \u001b[39mprint\u001b[39m(all_are_even([\u001b[39m2\u001b[39m,\u001b[39m4\u001b[39m,\u001b[39m6\u001b[39m]))\n\u001b[0;32m---> 16\u001b[0m \u001b[39mprint\u001b[39m(all_are_even([\u001b[39m'\u001b[39;49m\u001b[39mabc\u001b[39;49m\u001b[39m'\u001b[39;49m]))\n",
      "Cell \u001b[0;32mIn[11], line 7\u001b[0m, in \u001b[0;36mall_are_even\u001b[0;34m(num_list)\u001b[0m\n\u001b[1;32m      5\u001b[0m \u001b[39mfor\u001b[39;00m num \u001b[39min\u001b[39;00m num_list:\n\u001b[1;32m      6\u001b[0m     \u001b[39mif\u001b[39;00m \u001b[39mtype\u001b[39m(num) \u001b[39m!=\u001b[39m \u001b[39mint\u001b[39m:\n\u001b[0;32m----> 7\u001b[0m         \u001b[39mraise\u001b[39;00m \u001b[39mException\u001b[39;00m(\u001b[39m\"\u001b[39m\u001b[39mAll numbers must be integers\u001b[39m\u001b[39m\"\u001b[39m)\n\u001b[1;32m      8\u001b[0m     \u001b[39mif\u001b[39;00m num \u001b[39m%\u001b[39m \u001b[39m2\u001b[39m \u001b[39m==\u001b[39m \u001b[39m1\u001b[39m:\n\u001b[1;32m      9\u001b[0m         \u001b[39mreturn\u001b[39;00m \u001b[39mFalse\u001b[39;00m\n",
      "\u001b[0;31mException\u001b[0m: All numbers must be integers"
     ]
    }
   ],
   "source": [
    "def is_even(num):\n",
    "    return num % 2 == 0\n",
    "\n",
    "def all_are_even(num_list):\n",
    "    for num in num_list:\n",
    "        if type(num) != int:\n",
    "            raise Exception(\"All numbers must be integers\")\n",
    "        if num % 2 == 1:\n",
    "            return False\n",
    "        else:\n",
    "            pass\n",
    "        return True\n",
    "\n",
    "print(is_even(5))\n",
    "print(all_are_even([2,4,6]))\n",
    "print(all_are_even(['abc']))"
   ]
  },
  {
   "cell_type": "code",
   "execution_count": null,
   "metadata": {},
   "outputs": [
    {
     "data": {
      "text/plain": [
       "[2, 4, 6, 8]"
      ]
     },
     "execution_count": 13,
     "metadata": {},
     "output_type": "execute_result"
    }
   ],
   "source": [
    "def return_even_numbers(num_list):\n",
    "    even_numbers = []\n",
    "    for num in num_list:\n",
    "        if num % 2 == 0:\n",
    "            even_numbers.append(num)\n",
    "    return even_numbers\n",
    "\n",
    "return_even_numbers([1,2,3,4,5,6,7,8])"
   ]
  },
  {
   "cell_type": "code",
   "execution_count": null,
   "metadata": {},
   "outputs": [],
   "source": [
    "# Game for guessing which cup has the ball\n",
    "\n",
    "from random import shuffle\n",
    "\n",
    "def return_random(list):\n",
    "    print('Returning random')\n",
    "    shuffled = list\n",
    "    shuffle(list)\n",
    "    return list[0]\n",
    "\n",
    "def run_game():\n",
    "    x = 0\n",
    "    answer = return_random([1,2,3])\n",
    "    print('New game! Guess where the ball is (1-3)')\n",
    "#     x = 0\n",
    "#     while x != answer:\n",
    "#         x = input()\n",
    "#         if x not in {1,2,3}:\n",
    "#             print('ERROR: You must guess 1, 2, or 3')\n",
    "#         elif x != answer:\n",
    "#             print('Wrong! Guess again. (Enter 1-3)')\n",
    "    print(f'You win! The answer is {answer}')\n",
    "\n",
    "# run_game()\n",
    "print(return_random([1,2,3]))\n",
    "print('Hello')"
   ]
  },
  {
   "cell_type": "code",
   "execution_count": null,
   "metadata": {},
   "outputs": [],
   "source": []
  }
 ],
 "metadata": {
  "kernelspec": {
   "display_name": "Python 3",
   "language": "python",
   "name": "python3"
  },
  "language_info": {
   "codemirror_mode": {
    "name": "ipython",
    "version": 3
   },
   "file_extension": ".py",
   "mimetype": "text/x-python",
   "name": "python",
   "nbconvert_exporter": "python",
   "pygments_lexer": "ipython3",
   "version": "3.11.1"
  },
  "orig_nbformat": 4,
  "vscode": {
   "interpreter": {
    "hash": "1a1af0ee75eeea9e2e1ee996c87e7a2b11a0bebd85af04bb136d915cefc0abce"
   }
  }
 },
 "nbformat": 4,
 "nbformat_minor": 2
}
