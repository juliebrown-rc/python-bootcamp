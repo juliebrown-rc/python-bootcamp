{
 "cells": [
  {
   "cell_type": "code",
   "execution_count": 7,
   "metadata": {},
   "outputs": [
    {
     "name": "stdout",
     "output_type": "stream",
     "text": [
      "5.0\n",
      "args: (40, 60)\n",
      "5.0\n"
     ]
    }
   ],
   "source": [
    "def myfunc(a,b,c=0,d=0):\n",
    "    return 0.05*(a+b+c+d)\n",
    "\n",
    "print(myfunc(40,60))\n",
    "\n",
    "def mynewfunc(*args):\n",
    "    print(f'args: {args}')\n",
    "    return sum(args)*0.05\n",
    "\n",
    "print(mynewfunc(40,60))"
   ]
  },
  {
   "cell_type": "code",
   "execution_count": 18,
   "metadata": {},
   "outputs": [
    {
     "name": "stdout",
     "output_type": "stream",
     "text": [
      "My fruit of choice is: apple\n"
     ]
    }
   ],
   "source": [
    "def myfunc(**kwargs):\n",
    "    if 'fruit' in kwargs:\n",
    "        print(f\"My fruit of choice is: {kwargs['fruit']}\")\n",
    "    else:\n",
    "        print('There are no fruits')\n",
    "\n",
    "myfunc(fruit='apple')"
   ]
  },
  {
   "cell_type": "code",
   "execution_count": 19,
   "metadata": {},
   "outputs": [
    {
     "name": "stdout",
     "output_type": "stream",
     "text": [
      "I would like 10 eggs\n"
     ]
    }
   ],
   "source": [
    "def myfunc(*args,**kwargs):\n",
    "    print(f\"I would like {args[0]} {kwargs['food']}\")\n",
    "\n",
    "# all args first, all kwargs last\n",
    "myfunc(10,20,30,fruit='orange',food='eggs',animal='dog')"
   ]
  },
  {
   "cell_type": "code",
   "execution_count": 24,
   "metadata": {},
   "outputs": [
    {
     "data": {
      "text/plain": [
       "[2, 4]"
      ]
     },
     "execution_count": 24,
     "metadata": {},
     "output_type": "execute_result"
    }
   ],
   "source": [
    "def myfunc(*vals):\n",
    "    result = []\n",
    "    for v in vals:\n",
    "        if v % 2 == 0:\n",
    "            result.append(v)\n",
    "    return result\n",
    "\n",
    "def betterFunc(*vals)\n",
    "    return list(filter(lambda x: x % 2 == 0, vals))\n",
    "\n",
    "myfunc(1,2,3,4,5)"
   ]
  },
  {
   "cell_type": "code",
   "execution_count": null,
   "metadata": {},
   "outputs": [],
   "source": []
  }
 ],
 "metadata": {
  "kernelspec": {
   "display_name": "Python 3",
   "language": "python",
   "name": "python3"
  },
  "language_info": {
   "codemirror_mode": {
    "name": "ipython",
    "version": 3
   },
   "file_extension": ".py",
   "mimetype": "text/x-python",
   "name": "python",
   "nbconvert_exporter": "python",
   "pygments_lexer": "ipython3",
   "version": "3.11.1"
  },
  "orig_nbformat": 4,
  "vscode": {
   "interpreter": {
    "hash": "1a1af0ee75eeea9e2e1ee996c87e7a2b11a0bebd85af04bb136d915cefc0abce"
   }
  }
 },
 "nbformat": 4,
 "nbformat_minor": 2
}
