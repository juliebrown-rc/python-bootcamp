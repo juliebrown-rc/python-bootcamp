{
 "cells": [
  {
   "cell_type": "code",
   "execution_count": 1,
   "metadata": {},
   "outputs": [
    {
     "name": "stdout",
     "output_type": "stream",
     "text": [
      "AAPL: $200\n",
      "GOOG: $400\n",
      "MSFT: $100\n"
     ]
    }
   ],
   "source": [
    "stock_prices = [('AAPL', 200), ('GOOG', 400), ('MSFT', 100)]\n",
    "for ticker, price in stock_prices:\n",
    "    print(f'{ticker}: ${price}')"
   ]
  },
  {
   "cell_type": "code",
   "execution_count": 3,
   "metadata": {},
   "outputs": [
    {
     "name": "stdout",
     "output_type": "stream",
     "text": [
      "Name: 800, hours: Cassie\n"
     ]
    }
   ],
   "source": [
    "work_hours = [('Abby', 100), ('Billy', 400), ('Cassie', 800)]\n",
    "\n",
    "def worked_most_hours(work_hours):\n",
    "    max_hours = 0\n",
    "    max_name = None\n",
    "    for name, hours in work_hours:\n",
    "        if hours > max_hours:\n",
    "            max_hours = hours\n",
    "            max_name = name\n",
    "    return (max_hours, max_name)\n",
    "\n",
    "name, hours = worked_most_hours(work_hours)\n",
    "print(f'Name: {name}, hours: {hours}')\n"
   ]
  },
  {
   "cell_type": "code",
   "execution_count": null,
   "metadata": {},
   "outputs": [],
   "source": []
  }
 ],
 "metadata": {
  "kernelspec": {
   "display_name": "Python 3",
   "language": "python",
   "name": "python3"
  },
  "language_info": {
   "codemirror_mode": {
    "name": "ipython",
    "version": 3
   },
   "file_extension": ".py",
   "mimetype": "text/x-python",
   "name": "python",
   "nbconvert_exporter": "python",
   "pygments_lexer": "ipython3",
   "version": "3.11.1"
  },
  "orig_nbformat": 4,
  "vscode": {
   "interpreter": {
    "hash": "1a1af0ee75eeea9e2e1ee996c87e7a2b11a0bebd85af04bb136d915cefc0abce"
   }
  }
 },
 "nbformat": 4,
 "nbformat_minor": 2
}
